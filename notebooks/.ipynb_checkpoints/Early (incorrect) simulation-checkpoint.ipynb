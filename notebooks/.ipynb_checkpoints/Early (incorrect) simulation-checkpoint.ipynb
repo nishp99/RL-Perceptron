{
 "cells": [
  {
   "cell_type": "code",
   "execution_count": 1,
   "id": "b1bd9f1d",
   "metadata": {},
   "outputs": [],
   "source": [
    "import torch\n",
    "import numpy as np\n",
    "import matplotlib.pyplot as plt"
   ]
  },
  {
   "cell_type": "code",
   "execution_count": 2,
   "id": "6c05e4a4",
   "metadata": {},
   "outputs": [],
   "source": [
    "import os\n",
    "os.environ[\"KMP_DUPLICATE_LIB_OK\"]=\"TRUE\""
   ]
  },
  {
   "cell_type": "code",
   "execution_count": 85,
   "id": "7c534f25",
   "metadata": {},
   "outputs": [],
   "source": [
    "class single_layer_linear:\n",
    "    def __init__(self, T, N, b, eta):\n",
    "        self.T = T #episode length\n",
    "        self.N = N #x dimension\n",
    "        self.b = b #batch size (episodes per batch)\n",
    "        self.eta = eta #step size\n",
    "        self.teacher = self.generate()\n",
    "        self.unit_teacher = self.teacher/torch.linalg.norm(self.teacher)\n",
    "        self.student = -self.teacher + torch.normal(torch.zeros(self.N), torch.ones(self.N)/(self.N/3)) #make the student vector near antioptimal\n",
    "        self.init_student = torch.clone(self.student) #stores the initial student (for resets when finding the stochastic average)\n",
    "        self.r = [0,torch.linalg.norm(self.student)] #list of current and previous magnitudes of student\n",
    "        self.q = self.teacher.T @ self.student/(self.r[1] * torch.linalg.norm(self.teacher)) #q order parameter\n",
    "        \n",
    "        self.p_correct = (1-torch.acos(self.q)/np.pi)**self.T #probability of correct classification\n",
    "    \n",
    "    def set_correct(self): #setter for p_correct\n",
    "            self.p_correct = (1-torch.acos(self.q)/np.pi)**self.T\n",
    "        \n",
    "    #method to generate teacher/initial student\n",
    "    def generate(self):\n",
    "        w = torch.normal(torch.zeros(self.N), torch.ones(self.N))\n",
    "        w = w/torch.linalg.norm(w)\n",
    "        return w* self.N**0.5\n",
    "    \n",
    "    #single update step of r (analytic)\n",
    "    def update_r(self):\n",
    "        new_r = (self.r[1]**2 + 2*self.eta*self.T/((np.pi*self.N)**0.5) * self.p_correct * (1+self.q)**0.5 + \n",
    "                 self.eta**2 * (self.T/((np.pi*self.N)**0.5)*self.p_correct)**2)**0.5\n",
    "        self.r = [self.r[1], new_r]\n",
    "    \n",
    "    #single update step of q (analytic)\n",
    "    def update_q(self):\n",
    "        self.q = (self.r[0]*self.q + self.eta*self.T/((np.pi*self.N)**0.5)*self.p_correct * (1+self.q)**0.5)/self.r[1]\n",
    "        \n",
    "    def update_student(self):\n",
    "        w_h = self.student/torch.linalg.norm(self.student) + self.unit_teacher\n",
    "        w_h = w_h/torch.linalg.norm(w_h)\n",
    "        self.student += self.eta*np.sqrt(2/(np.pi*self.N))*self.T*(1-torch.acos(self.get_q())/np.pi)**self.T * w_h\n",
    "        \n",
    "    def analytically_update_student(self, epochs):\n",
    "        R = [self.r[1]]\n",
    "        Q = [self.q]\n",
    "        P = [self.p_correct]\n",
    "        \n",
    "        for _ in range(epochs):\n",
    "            self.update_student()\n",
    "            \n",
    "            R.append(self.get_r())\n",
    "            Q.append(self.get_q())\n",
    "            P.append(self.prob_correct())\n",
    "        self.reset_student()\n",
    "        return P, Q, R\n",
    "        \n",
    "    def analytically_update_order_params(self, epochs):\n",
    "        self.reset()\n",
    "        R = [self.r[1]]\n",
    "        Q = [self.q]\n",
    "        P = [self.p_correct]\n",
    "        \n",
    "        for _ in range(epochs):\n",
    "            self.update_r()\n",
    "            self.update_q()\n",
    "            self.set_correct()\n",
    "            R.append(self.r[1])\n",
    "            Q.append(self.q)\n",
    "            P.append(self.p_correct)\n",
    "\n",
    "        #self.reset()\n",
    "        return P, Q, R\n",
    "    \n",
    "    def reset(self): #resets r, q, p_correct to initial student values\n",
    "        self.r = [0,torch.linalg.norm(self.init_student)]\n",
    "        self.q = self.unit_teacher.T @ self.init_student/(self.r[1])\n",
    "        self.set_correct()\n",
    "    \n",
    "    \n",
    "    \"\"\"\n",
    "    the below functions are for the stochastic updates\n",
    "    \"\"\"\n",
    "    def get_r(self):\n",
    "        return torch.linalg.norm(self.student)\n",
    "    \n",
    "    def get_q(self):\n",
    "        return self.unit_teacher.T @ self.student/(torch.linalg.norm(self.student))\n",
    "    \n",
    "    def create_batch(self):\n",
    "        return torch.normal(torch.zeros(self.N, self.T, self.b), torch.ones(self.N, self.T, self.b)/self.N)\n",
    "    \n",
    "    #outputs T x b tensor\n",
    "    def assign_labels(self, X):\n",
    "        return torch.sign(torch.einsum('i, ijk -> jk', self.teacher, X))\n",
    "    \n",
    "    #outputs T x b tensor or predicted labels for each time step in each episode in batch\n",
    "    def predict_labels(self, X):\n",
    "        return torch.sign(torch.einsum('i, ijk -> jk', self.student, X))\n",
    "    \n",
    "    #if entire episode is correct then episode will sum to T when multiplied by true labels, can use this fact\n",
    "    #to create mask of y-labels\n",
    "    def correct_episode_mask(self, labels, predictions):\n",
    "        return torch.sum(labels * predictions, 0) != self.T\n",
    "    \n",
    "    #unsqueeze y-labels and repeat to dimension of x (N) (ready for multiplication)\n",
    "    #use mask to set y-labels corresponding to episodes with atleast 1 error to 0\n",
    "    def augment_correct_labels(self, Y, mask):\n",
    "        mask = mask.unsqueeze(0).repeat(self.T, 1)\n",
    "        \n",
    "        Y = torch.where(mask, torch.tensor(0.0), Y)\n",
    "        return Y.unsqueeze(0).repeat(self.N, 1, 1)\n",
    "        \n",
    "    #update student by multiplying X-batch by the repeated and masked y-labels and summing over x-vectors\n",
    "    #then dividing by batch size to obtain stochastic average\n",
    "    def stochastic_update(self, Y, X):\n",
    "        a = torch.sum(Y * X, (1,2))/self.b\n",
    "        self.student += self.eta * a\n",
    "    \n",
    "    def prob_correct(self):\n",
    "        return (1-torch.acos(self.get_q())/np.pi)**self.T\n",
    "    \n",
    "    def reset_student(self):\n",
    "        self.student = torch.clone(self.init_student)\n",
    "    \n",
    "    def do_test(self,epochs, runs):\n",
    "        p, q, r = self.prob_correct(), self.get_q(), self.get_r()\n",
    "        P = [p for _ in range(runs)]\n",
    "        P = torch.tensor(P)\n",
    "        P = torch.cat((P.unsqueeze(1), torch.zeros(runs,epochs-1)),dim=1)\n",
    "        P_count = torch.tensor([0 for _ in range(runs)])\n",
    "        P_count = torch.cat((P_count.unsqueeze(1), torch.zeros(runs,epochs-1)),dim=1)\n",
    "        for i in range(runs): \n",
    "            for epoch in range(1,epochs):\n",
    "                X = self.create_batch()\n",
    "                Y_true = self.assign_labels(X)\n",
    "                Y_pred = self.predict_labels(X)\n",
    "                mask = self.correct_episode_mask(Y_true, Y_pred)\n",
    "                num_correct = self.b-torch.sum(mask)\n",
    "                augmented_labels = self.augment_correct_labels(Y_true, mask)\n",
    "                self.stochastic_update(augmented_labels, X)\n",
    "                P[i,epoch] = self.prob_correct()\n",
    "                P_count[i,epoch] = num_correct/self.b\n",
    "            self.reset_student()\n",
    "        return torch.std_mean(P, 0), torch.std_mean(P_count, 0)\n",
    "        "
   ]
  },
  {
   "cell_type": "code",
   "execution_count": 86,
   "id": "4a1dac2a",
   "metadata": {},
   "outputs": [],
   "source": [
    "linear = single_layer_linear(3,10,100,1)"
   ]
  },
  {
   "cell_type": "code",
   "execution_count": 87,
   "id": "28a9fb09",
   "metadata": {
    "scrolled": true
   },
   "outputs": [
    {
     "data": {
      "text/plain": [
       "tensor(0.0002)"
      ]
     },
     "execution_count": 87,
     "metadata": {},
     "output_type": "execute_result"
    }
   ],
   "source": [
    "linear.p_correct"
   ]
  },
  {
   "cell_type": "code",
   "execution_count": 93,
   "id": "41bb832e",
   "metadata": {},
   "outputs": [],
   "source": [
    "linear.reset_student()\n",
    "linear.reset()"
   ]
  },
  {
   "cell_type": "code",
   "execution_count": 89,
   "id": "78d5f156",
   "metadata": {},
   "outputs": [],
   "source": [
    "P, Q, R = linear.analytically_update_student(epochs = 10000)\n"
   ]
  },
  {
   "cell_type": "code",
   "execution_count": 41,
   "id": "723b8fe7",
   "metadata": {},
   "outputs": [],
   "source": [
    "T = [i for i in range(10001)]"
   ]
  },
  {
   "cell_type": "code",
   "execution_count": 92,
   "id": "4556bba3",
   "metadata": {},
   "outputs": [],
   "source": [
    "P_ord, Q_ord, R_ord = linear.analytically_update_order_params(epochs = 10000)"
   ]
  },
  {
   "cell_type": "code",
   "execution_count": 94,
   "id": "8107630d",
   "metadata": {},
   "outputs": [],
   "source": [
    "linear.reset_student()\n",
    "P_stochastic = linear.do_test(10000, 1)"
   ]
  },
  {
   "cell_type": "code",
   "execution_count": 78,
   "id": "37f1484a",
   "metadata": {},
   "outputs": [],
   "source": [
    "t = [i for i in range(1000)]"
   ]
  },
  {
   "cell_type": "code",
   "execution_count": 97,
   "id": "8758561f",
   "metadata": {},
   "outputs": [
    {
     "data": {
      "image/png": "[encoded data removed]",
      "text/plain": [
       "<Figure size 640x480 with 1 Axes>"
      ]
     },
     "metadata": {},
     "output_type": "display_data"
    }
   ],
   "source": [
    "plt.plot(t,P_stochastic[1][1], label='simulation')\n",
    "plt.plot(t,P_stochastic[0][1], label='p(correct) given overlap')\n",
    "plt.plot(T, P, label='Hebbian semi-theory')\n",
    "plt.plot(T,P_ord, label='update order params directly')\n",
    "plt.legend(loc='lower right')\n",
    "plt.show()\n"
   ]
  },
  {
   "cell_type": "code",
   "execution_count": 1,
   "id": "2313d9ae",
   "metadata": {},
   "outputs": [
    {
     "data": {
      "text/plain": [
       "\"\\nNext Steps:\\nadditional layer: would then have to find evolution of all the relevant order parameters analytically first, then simulate,\\nnon-linearity: looks at papers/Engel for inspo\\nProbabilistic policy, e.g. instead of 'sign' can consider logistic function\\nMultiple teachers (1 for each 'state'), have to introduce the concept of a state\\nThe x inputs drawn from different distributions/different underlying structure depending on environment/state currently in\\n(how to incoorporate the above two in the teacher student setting?)\\nExtension to actor-critic\\nAugment reward structure, \\n\""
      ]
     },
     "execution_count": 1,
     "metadata": {},
     "output_type": "execute_result"
    }
   ],
   "source": [
    "\"\"\"\n",
    "Next Steps:\n",
    "additional layer: would then have to find evolution of all the relevant order parameters analytically first, then simulate,\n",
    "non-linearity: looks at papers/Engel for inspo\n",
    "Probabilistic policy, e.g. instead of 'sign' can consider logistic function\n",
    "Multiple teachers (1 for each 'state'), have to introduce the concept of a state\n",
    "The x inputs drawn from different distributions/different underlying structure depending on environment/state currently in\n",
    "(how to incoorporate the above two in the teacher student setting?)\n",
    "Extension to actor-critic\n",
    "Augment reward structure, \n",
    "\"\"\"\n"
   ]
  },
  {
   "cell_type": "code",
   "execution_count": null,
   "id": "2557ce5e",
   "metadata": {},
   "outputs": [],
   "source": [
    "\"\"\"\n",
    "Run again but with correct updates\n",
    "\"\"\"\n",
    "\n"
   ]
  }
 ],
 "metadata": {
  "kernelspec": {
   "display_name": "Python 3",
   "language": "python",
   "name": "python3"
  },
  "language_info": {
   "codemirror_mode": {
    "name": "ipython",
    "version": 3
   },
   "file_extension": ".py",
   "mimetype": "text/x-python",
   "name": "python",
   "nbconvert_exporter": "python",
   "pygments_lexer": "ipython3",
   "version": "3.7.3"
  }
 },
 "nbformat": 4,
 "nbformat_minor": 5
}
